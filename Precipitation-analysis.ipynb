{
    "cells": [
        {
            "cell_type": "markdown",
            "metadata": {},
            "source": "# Description\nThis notebook analyzes and visualizes precipitation data."
        },
        {
            "cell_type": "code",
            "execution_count": 5,
            "metadata": {},
            "outputs": [],
            "source": "# The code was removed by Watson Studio for sharing."
        },
        {
            "cell_type": "markdown",
            "metadata": {},
            "source": "## Selecting a country\nSelecting for visualization only Algeria"
        },
        {
            "cell_type": "code",
            "execution_count": 10,
            "metadata": {},
            "outputs": [
                {
                    "data": {
                        "text/plain": "[Row(Country or Area='Algeria', Year='2001', Value='43840', Value Footnotes=None, Unit='million cubic metres'),\n Row(Country or Area='Algeria', Year='2000', Value='64430', Value Footnotes=None, Unit='million cubic metres'),\n Row(Country or Area='Algeria', Year='1999', Value='50150', Value Footnotes=None, Unit='million cubic metres'),\n Row(Country or Area='Algeria', Year='1998', Value='66470', Value Footnotes=None, Unit='million cubic metres'),\n Row(Country or Area='Algeria', Year='1997', Value='74460', Value Footnotes=None, Unit='million cubic metres'),\n Row(Country or Area='Algeria', Year='1996', Value='53380', Value Footnotes=None, Unit='million cubic metres'),\n Row(Country or Area='Algeria', Year='1995', Value='90270', Value Footnotes=None, Unit='million cubic metres'),\n Row(Country or Area='Algeria', Year='1990', Value='76160', Value Footnotes=None, Unit='million cubic metres'),\n Row(Country or Area='Andorra', Year='2007', Value='306.630004882813', Value Footnotes=None, Unit='million cubic metres')]"
                    },
                    "execution_count": 10,
                    "metadata": {},
                    "output_type": "execute_result"
                }
            ],
            "source": "a[13:22]"
        },
        {
            "cell_type": "code",
            "execution_count": null,
            "metadata": {},
            "outputs": [],
            "source": ""
        }
    ],
    "metadata": {
        "kernelspec": {
            "display_name": "Python 3.9 with Spark",
            "language": "python3",
            "name": "python39"
        },
        "language_info": {
            "codemirror_mode": {
                "name": "ipython",
                "version": 3
            },
            "file_extension": ".py",
            "mimetype": "text/x-python",
            "name": "python",
            "nbconvert_exporter": "python",
            "pygments_lexer": "ipython3",
            "version": "3.9.7"
        }
    },
    "nbformat": 4,
    "nbformat_minor": 1
}